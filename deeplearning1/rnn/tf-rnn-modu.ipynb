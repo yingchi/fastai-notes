{
 "cells": [
  {
   "cell_type": "markdown",
   "metadata": {},
   "source": [
    "# Use Tensorflow to Generate Text for Modu"
   ]
  },
  {
   "cell_type": "markdown",
   "metadata": {
    "heading_collapsed": true
   },
   "source": [
    "### Define some helper functions"
   ]
  },
  {
   "cell_type": "code",
   "execution_count": 1,
   "metadata": {
    "collapsed": false,
    "hidden": true
   },
   "outputs": [],
   "source": [
    "import pickle\n",
    "import os\n",
    "import re\n",
    "\n",
    "def load_text(path):\n",
    "    input_file = os.path.join(path)\n",
    "    with open(input_file, 'r') as f:\n",
    "        text_data = f.read()\n",
    "    return text_data\n",
    "\n",
    "def preprocess_and_save_data(text, token_lookup, create_lookup_tables):\n",
    "    token_dict = token_lookup()\n",
    "    for key, token in token_dict.items():\n",
    "        text = text.replace(key, '{}'.format(token))\n",
    "        \n",
    "    text = list(text)\n",
    "    vocab_to_in, int_to_vocab = create_lookup_tables(text)\n",
    "    int_text = [vocab_to_in[word] for word in text]\n",
    "    pickle.dump((int_text, vocab_to_in, int_to_vocab, token_dict), open('preprocess.p', 'wb'))\n",
    "    \n",
    "def load_preprocess():\n",
    "    return pickle.load(open('preprocess.p', mode='rb'))\n",
    "\n",
    "def save_params(params):\n",
    "    pickle.dump(params, open('params.p', 'wb'))\n",
    "    \n",
    "def load_params():\n",
    "    return pickle.load(open('params.p', mode='rb'))"
   ]
  },
  {
   "cell_type": "markdown",
   "metadata": {},
   "source": [
    "### Read in data & Do some cleaning"
   ]
  },
  {
   "cell_type": "code",
   "execution_count": 2,
   "metadata": {
    "collapsed": false
   },
   "outputs": [
    {
     "name": "stdout",
     "output_type": "stream",
     "text": [
      "1898\n",
      "['第1章序章', '真实，这残酷的真实。', '燕城花市区南平大道北一带，就像个画了半面妆的妖怪。', '宽阔笔直的双向车道把整个花市区一分为二，东区是本市最繁华的核心商圈之一，西区则是被遗忘的旧城区，城市贫民的聚集地。', '随着东区这几年接连拍出天价“地王”，亟待改造的老城区也跟着沾了光，拆迁成本水涨船高，活生生地吓跑了一帮开发商，在逼仄贫困的窄巷中生生铸起了一道资本的藩篱。', '危房里的街坊们整天幻想着能傍着这十几平方的小破房一夜暴富，精神上已经率先享受起了“我家房子拆了就是几百万”的优越感。', '当然，这些贫民窟里的百万富翁们还是要每天圾着拖鞋排队倒尿盆。', '初夏的夜里尚有凉意，白天积攒的那一点暑气很快溃不成军，西区非法占道的小烧烤摊陆续偃旗息鼓，纳凉的居民们也都早早回了家，偶尔有个旧路灯电压不稳地乱闪，多半是附近群租房的从上面私接电线的缘故。', '而一街之隔的繁华区，夜生活才刚刚开始', '傍晚时分，东区商圈临街的一家咖啡店里，刚打发完一大批客人的店员终于逮着机会出了口长气，可还不等她把笑僵的五官手动归位，玻璃门上挂的小铃铛又响了。', '店员只好重新端出八颗牙的标准微笑：“欢迎光临。”', '“一杯低因的香草拿铁，谢谢。”', '客人是个身材修长的青年男子，留着几乎及肩的长发，穿一身熨帖又严肃的正装，戴着金属框的眼镜，细细的镜框压在他高挺的鼻梁上，他低头摸钱夹，勾在下巴上的长发挡住了小半张脸，鼻梁和嘴唇在灯光下好像刷了一层苍白的釉，看起来有种格外禁欲的冷淡气质。', '爱美之心人皆有之，店员不由多看了他几眼，揣度着客人的喜好搭话：“您需要换成无糖香草吗？”', '“不，糖浆多一点。”客人递过零钱，一抬头，店员的目光正好和他撞在一起。', '客人大约是出于礼貌，冲店员笑了一下，藏在镜片后面的眼角微妙地一弯，温柔又有些暧昧的笑意顷刻就穿透了他方才严肃的假正经。', '店员这才发现，这位客人的模样虽然很好，却不是周正端庄的好，有点眼带桃花的意思，她的脸莫名有点发烫，连忙避开客人的视线，低头下单。', '幸好这时给店里补货的来了，店员赶紧给自己找了点事干，大声招呼送货的到后面核对货单。', '送货的是个年轻小伙，二十岁上下，整个人好似一团洋溢的青春，就着余晖弹进了店里，他皮肤黝黑，一笑一口小白牙，活力十足地跟店员打招呼：“美女好，美女今天气色不错，生意很好吧？”', '店员按月拿死工资，并不盼着店里生意好，听了这通拍歪的马屁，她哭笑不得地一摆手：“还行吧，你快去干活，出来我给你倒杯冰水喝。”']\n"
     ]
    }
   ],
   "source": [
    "data_path = './text/modu.txt'\n",
    "text = load_text(data_path)\n",
    "text = text.replace(' ', '')\n",
    "\n",
    "# reduce 2 or more empty line to 1\n",
    "text = re.sub(r'\\n{2,}', '\\n', text)\n",
    "# replace ...... with 。\n",
    "text = re.sub(r'\\.+', '。', text)\n",
    "# remove the content in 《》\n",
    "text = re.sub(r'《.*》', '', text)\n",
    "# remove ――\n",
    "text = re.sub(r'――', '', text)\n",
    "text = re.sub(r'\\u3000', '', text)\n",
    "\n",
    "num_words_for_training = 100000\n",
    "\n",
    "text = text[:num_words_for_training]\n",
    "lines_of_text = text.split('\\n')\n",
    "print(len(lines_of_text))\n",
    "print(lines_of_text[:20])"
   ]
  },
  {
   "cell_type": "code",
   "execution_count": 3,
   "metadata": {
    "collapsed": false
   },
   "outputs": [
    {
     "name": "stdout",
     "output_type": "stream",
     "text": [
      "['骆闻舟此时正在横穿中央广场，左耳的耳机里听着各小组的进度汇报，右耳留心着周围环境，一心二用地吩咐说：“中央广场找几个人维护一下现场秩序，人手不够让保安兄弟们帮个忙，不要让围观的人乱说话干扰她的情绪”', '这时，大屏幕上的费渡开了口：“阿姨，我自己的妈妈如果还活着，应该是跟您差不多的年纪。”', '骆闻舟听了这一句，下意识地抬头看了他一眼，但是看归看，他脚步不停，飞快地穿过广场空地，赶往下一座建筑物：“3组，临街的那几个大高楼顶楼有监控，可以直接调，不要浪费时间。陶然你那边注意疏散通道，4组跟我去东区的双子大楼，有几个楼层正在施工，重点排查。”', '费渡略微有些低沉的声音如影随形地追着他匆忙的脚步：“……我比忠义回家回得勤一些，毕竟他得辛苦攒钱给您治病，我当时只是个无所事事的学生，每周末，她都会提前在花瓶里换好鲜花，强打精神准备好我喜欢吃的东西，打扫我的房间，把我的被子拿出去晒。她不喜欢和保姆住，所以这些事都必须独自完成您也会给忠义晒被子吗？”', '王秀娟难以忍受地发出一声长长的抽泣，旋即被卷入了风中。', '而抽泣的风从高楼楼顶盘旋而下，刮过骆闻舟见汗的鬓角，像一声掠过的叹息。', '“可是有一天，我满怀期待地回到家，推开门，却发现门口的花瓶里只有一堆枯枝败叶，所有的窗帘都拉着，屋里透着一股死气沉沉的味道，等我战战兢兢地来到她房间里，发现等着我的不是晒好的被子，而是她的尸体。”费渡说到这里，略微停顿了一下，“您不久前才和我说过，‘我妈肯定每天盼着我回家’，可是当时办案的民警告诉我，她是在我回来的前一晚死于自杀我每周都是固定的时间回家，她一直都知道。”', '“妈，我一直很想问您一个问题，什么样的妈妈会掐着时间，特意把自己的尸体留给她的孩子呢？我每天都在想怎么样讨你喜欢，怎么样能让你高兴一点怎么样攒够给你治病的钱，还清当年人家借给我的手术费……钱还没有还清，我现在一个人在冰库里回不了家，你就打算把我扔在那不管了吗？你们如果都这么狠心，为什么以前还要表现出好像很在乎我们的样子？”', '王秀娟缓缓地就着跨在防护栏上的动作蹲了下来。', '']\n"
     ]
    }
   ],
   "source": [
    "print(lines_of_text[-10:])"
   ]
  },
  {
   "cell_type": "markdown",
   "metadata": {},
   "source": [
    "### Preprocess the text data to suit the model"
   ]
  },
  {
   "cell_type": "code",
   "execution_count": 4,
   "metadata": {
    "collapsed": true
   },
   "outputs": [],
   "source": [
    "def create_lookup_tables(input_data):\n",
    "    vocab = set(input_data)\n",
    "    vocab_to_int = {word: idx for idx, word in enumerate(vocab)}\n",
    "    int_to_vocab = dict(enumerate(vocab))\n",
    "    return vocab_to_int, int_to_vocab\n",
    "\n",
    "def token_lookup():\n",
    "    \"\"\" Lookup tables for Chinese punctuations\n",
    "    \"\"\"\n",
    "    symbols = set(['。', '，', '“', \"”\", '；', '！', '？', '（', '）', '\\n'])\n",
    "    tokens = [\"P\", \"C\", \"Q\", \"T\", \"S\", \"E\", \"M\", \"I\", \"O\", \"R\"]\n",
    "    return dict(zip(symbols, tokens))"
   ]
  },
  {
   "cell_type": "code",
   "execution_count": 5,
   "metadata": {
    "collapsed": true
   },
   "outputs": [],
   "source": [
    "# process and save the processed data\n",
    "preprocess_and_save_data(''.join(lines_of_text), token_lookup, create_lookup_tables)"
   ]
  },
  {
   "cell_type": "code",
   "execution_count": 6,
   "metadata": {
    "collapsed": false
   },
   "outputs": [],
   "source": [
    "int_text, vocab_to_int, int_to_vocab, token_dict = load_preprocess()"
   ]
  },
  {
   "cell_type": "markdown",
   "metadata": {},
   "source": [
    "### Check Tensorflow environment"
   ]
  },
  {
   "cell_type": "code",
   "execution_count": 7,
   "metadata": {
    "collapsed": false
   },
   "outputs": [
    {
     "name": "stdout",
     "output_type": "stream",
     "text": [
      "TensorFlow Version: 1.2.1\n"
     ]
    },
    {
     "name": "stderr",
     "output_type": "stream",
     "text": [
      "/home/ubuntu/anaconda2/envs/py36/lib/python3.6/site-packages/ipykernel/__main__.py:10: UserWarning: No GPU found. Please use a GPU to train your neural network.\n"
     ]
    }
   ],
   "source": [
    "import warnings\n",
    "import tensorflow as tf\n",
    "import numpy as np\n",
    "\n",
    "# Check TensorFlow Version, need > 1\n",
    "print('TensorFlow Version: {}'.format(tf.__version__))\n",
    "\n",
    "# Check for a GPU\n",
    "if not tf.test.gpu_device_name():\n",
    "    warnings.warn('No GPU found. Please use a GPU to train your neural network.')\n",
    "else:\n",
    "    print('Default GPU Device: {}'.format(tf.test.gpu_device_name()))\n",
    "    "
   ]
  },
  {
   "cell_type": "markdown",
   "metadata": {
    "collapsed": false
   },
   "source": [
    "## Build Our RNN!"
   ]
  },
  {
   "cell_type": "markdown",
   "metadata": {
    "collapsed": true
   },
   "source": [
    "### Set super params"
   ]
  },
  {
   "cell_type": "code",
   "execution_count": 57,
   "metadata": {
    "collapsed": true
   },
   "outputs": [],
   "source": [
    "# 训练循环次数\n",
    "num_epochs = 100\n",
    "\n",
    "# batch大小\n",
    "batch_size = 256\n",
    "\n",
    "# lstm层中包含的unit个数\n",
    "rnn_size = 514\n",
    "\n",
    "# embedding layer的大小\n",
    "embed_dim = 1000\n",
    "\n",
    "# 训练步长\n",
    "seq_length = 50\n",
    "\n",
    "# 学习率\n",
    "learning_rate = 0.002\n",
    "\n",
    "# 每多少步打印一次训练信息\n",
    "show_every_n_batches = 60\n",
    "\n",
    "# 保存session状态的位置\n",
    "save_dir = './save'"
   ]
  },
  {
   "cell_type": "markdown",
   "metadata": {},
   "source": [
    "Create the placeholders for input, targets and learning_Rate"
   ]
  },
  {
   "cell_type": "code",
   "execution_count": 58,
   "metadata": {
    "collapsed": true
   },
   "outputs": [],
   "source": [
    "def get_inputs():\n",
    "\n",
    "    # inputs和targets的类型都是整数的\n",
    "    inputs = tf.placeholder(tf.int32, [None, None], name='inputs')\n",
    "    targets = tf.placeholder(tf.int32, [None, None], name='targets')\n",
    "    learning_rate = tf.placeholder(tf.float32, name='learning_rate')\n",
    "\n",
    "    return inputs, targets, learning_rate"
   ]
  },
  {
   "cell_type": "markdown",
   "metadata": {},
   "source": [
    "Create rnn cell，use lstm cell，and create lstm layers. Use dropout，and initialize lstm layer"
   ]
  },
  {
   "cell_type": "code",
   "execution_count": 59,
   "metadata": {
    "collapsed": true
   },
   "outputs": [],
   "source": [
    "def get_init_cell(batch_size, rnn_size):\n",
    "    # lstm层数\n",
    "    num_layers = 2\n",
    "\n",
    "    # dropout时的保留概率\n",
    "    keep_prob = 0.8\n",
    "\n",
    "    # 创建包含rnn_size个神经元的lstm cell\n",
    "    cell = tf.contrib.rnn.BasicLSTMCell(rnn_size)\n",
    "\n",
    "    # 使用dropout机制防止overfitting等\n",
    "    drop = tf.contrib.rnn.DropoutWrapper(cell, output_keep_prob=keep_prob)\n",
    "\n",
    "    # 创建2层lstm层\n",
    "    cell = tf.contrib.rnn.MultiRNNCell([drop for _ in range(num_layers)])\n",
    "\n",
    "    # 初始化状态为0.0\n",
    "    init_state = cell.zero_state(batch_size, tf.float32)\n",
    "\n",
    "    # 使用tf.identify给init_state取个名字，后面生成文字的时候，要使用这个名字来找到缓存的state\n",
    "    init_state = tf.identity(init_state, name='init_state')\n",
    "\n",
    "    return cell, init_state"
   ]
  },
  {
   "cell_type": "markdown",
   "metadata": {},
   "source": [
    "Create embedding layers"
   ]
  },
  {
   "cell_type": "code",
   "execution_count": 24,
   "metadata": {
    "collapsed": true
   },
   "outputs": [],
   "source": [
    "def get_embed(input_data, vocab_size, embed_dim):\n",
    "    # create tf variable based on embedding layer size and vocab size\n",
    "    embedding = tf.Variable(tf.random_uniform((vocab_size, embed_dim)), dtype=tf.float32)\n",
    "    return tf.nn.embedding_lookup(embedding, input_data)"
   ]
  },
  {
   "cell_type": "markdown",
   "metadata": {},
   "source": [
    "创建rnn节点，使用dynamic_rnn方法计算出output和final_state"
   ]
  },
  {
   "cell_type": "code",
   "execution_count": 20,
   "metadata": {
    "collapsed": true
   },
   "outputs": [],
   "source": [
    "def build_rnn(cell, inputs):\n",
    "    outputs, final_state = tf.nn.dynamic_rnn(cell, inputs, dtype=tf.float32)\n",
    "    final_state = tf.identity(final_state, name=\"final_state\")\n",
    "    return outputs, final_state"
   ]
  },
  {
   "cell_type": "code",
   "execution_count": 21,
   "metadata": {
    "collapsed": true
   },
   "outputs": [],
   "source": [
    "def build_nn(cell, rnn_size, input_data, vocab_size, embed_dim):\n",
    "    embed = get_embed(input_data, vocab_size, rnn_size)\n",
    "    outputs, final_state = build_rnn(cell, embed)\n",
    "    logits = tf.contrib.layers.fully_connected(outputs, vocab_size, activation_fn=None,\n",
    "                                               weights_initializer = tf.truncated_normal_initializer(stddev=0.1),\n",
    "                                               biases_initializer=tf.zeros_initializer())\n",
    "    return logits, final_state"
   ]
  },
  {
   "cell_type": "markdown",
   "metadata": {},
   "source": [
    "Define get_batches to train batch by batch"
   ]
  },
  {
   "cell_type": "code",
   "execution_count": 22,
   "metadata": {
    "collapsed": true
   },
   "outputs": [],
   "source": [
    "def get_batches(int_text, batch_size, seq_length):\n",
    "    # 计算有多少个batch可以创建\n",
    "    n_batches = (len(int_text) // (batch_size * seq_length))\n",
    "\n",
    "    # 计算每一步的原始数据，和位移一位之后的数据\n",
    "    batch_origin = np.array(int_text[: n_batches * batch_size * seq_length])\n",
    "    batch_shifted = np.array(int_text[1: n_batches * batch_size * seq_length + 1])\n",
    "\n",
    "    # 将位移之后的数据的最后一位，设置成原始数据的第一位，相当于在做循环\n",
    "    batch_shifted[-1] = batch_origin[0]\n",
    "\n",
    "    batch_origin_reshape = np.split(batch_origin.reshape(batch_size, -1), n_batches, 1)\n",
    "    batch_shifted_reshape = np.split(batch_shifted.reshape(batch_size, -1), n_batches, 1)\n",
    "\n",
    "    batches = np.array(list(zip(batch_origin_reshape, batch_shifted_reshape)))\n",
    "\n",
    "    return batches"
   ]
  },
  {
   "cell_type": "markdown",
   "metadata": {},
   "source": [
    "### Now, let's build the whole RNN model!"
   ]
  },
  {
   "cell_type": "code",
   "execution_count": 60,
   "metadata": {
    "collapsed": false
   },
   "outputs": [],
   "source": [
    "from tensorflow.contrib import seq2seq\n",
    "\n",
    "train_graph = tf.Graph()\n",
    "with train_graph.as_default():\n",
    "    vocab_size = len(int_to_vocab)\n",
    "    \n",
    "    input_text, targets, lr = get_inputs()\n",
    "    input_data_shape = tf.shape(input_text)\n",
    "    \n",
    "    # 创建rnn的cell和初始状态节点，rnn的cell已经包含了lstm，dropout\n",
    "    # 这里的rnn_size表示每个lstm cell中包含了多少的神经元\n",
    "    cell, initial_state = get_init_cell(input_data_shape[0], rnn_size)\n",
    "    \n",
    "    # 创建计算loss和finalstate的节点\n",
    "    logits, final_state = build_nn(cell, rnn_size, input_text, vocab_size, embed_dim)\n",
    "\n",
    "    # 使用softmax计算最后的预测概率\n",
    "    probs = tf.nn.softmax(logits, name='probs')\n",
    "\n",
    "    # 计算loss\n",
    "    cost = seq2seq.sequence_loss(\n",
    "        logits,\n",
    "        targets,\n",
    "        tf.ones([input_data_shape[0], input_data_shape[1]]))\n",
    "\n",
    "    # 使用Adam提督下降\n",
    "    optimizer = tf.train.AdamOptimizer(lr)\n",
    "\n",
    "    # 裁剪一下Gradient输出，最后的gradient都在[-1, 1]的范围内\n",
    "    gradients = optimizer.compute_gradients(cost)\n",
    "    capped_gradients = [(tf.clip_by_value(grad, -1., 1.), var) for grad, var in gradients if grad is not None]\n",
    "    train_op = optimizer.apply_gradients(capped_gradients)"
   ]
  },
  {
   "cell_type": "markdown",
   "metadata": {},
   "source": [
    "Now, let's train the model"
   ]
  },
  {
   "cell_type": "code",
   "execution_count": 61,
   "metadata": {
    "collapsed": false
   },
   "outputs": [
    {
     "name": "stdout",
     "output_type": "stream",
     "text": [
      "Epoch   0 Batch    0/7   train_loss = 7.949\n",
      "Epoch   8 Batch    4/7   train_loss = 6.005\n",
      "Epoch  17 Batch    1/7   train_loss = 5.368\n",
      "Epoch  25 Batch    5/7   train_loss = 4.754\n",
      "Epoch  34 Batch    2/7   train_loss = 4.305\n",
      "Epoch  42 Batch    6/7   train_loss = 3.973\n",
      "Epoch  51 Batch    3/7   train_loss = 3.677\n",
      "Epoch  60 Batch    0/7   train_loss = 3.366\n",
      "Epoch  68 Batch    4/7   train_loss = 3.158\n",
      "Epoch  77 Batch    1/7   train_loss = 2.858\n",
      "Epoch  85 Batch    5/7   train_loss = 2.675\n",
      "Epoch  94 Batch    2/7   train_loss = 2.489\n",
      "Model Trained and Saved\n"
     ]
    }
   ],
   "source": [
    "# 获得训练用的所有batch\n",
    "batches = get_batches(int_text, batch_size, seq_length)\n",
    "\n",
    "# 打开session开始训练，将上面创建的graph对象传递给session\n",
    "with tf.Session(graph=train_graph) as sess:\n",
    "    sess.run(tf.global_variables_initializer())\n",
    "\n",
    "    for epoch_i in range(num_epochs):\n",
    "        state = sess.run(initial_state, {input_text: batches[0][0]})\n",
    "\n",
    "        for batch_i, (x, y) in enumerate(batches):\n",
    "            feed = {\n",
    "                input_text: x,\n",
    "                targets: y,\n",
    "                initial_state: state,\n",
    "                lr: learning_rate}\n",
    "            train_loss, state, _ = sess.run([cost, final_state, train_op], feed)\n",
    "\n",
    "            # 打印训练信息\n",
    "            if (epoch_i * len(batches) + batch_i) % show_every_n_batches == 0:\n",
    "                print('Epoch {:>3} Batch {:>4}/{}   train_loss = {:.3f}'.format(\n",
    "                    epoch_i,\n",
    "                    batch_i,\n",
    "                    len(batches),\n",
    "                    train_loss))\n",
    "\n",
    "    # 保存模型\n",
    "    saver = tf.train.Saver()\n",
    "    saver.save(sess, save_dir)\n",
    "    print('Model Trained and Saved')"
   ]
  },
  {
   "cell_type": "code",
   "execution_count": 27,
   "metadata": {
    "collapsed": true
   },
   "outputs": [],
   "source": [
    "# Save the trained model\n",
    "save_params((seq_length, save_dir))"
   ]
  },
  {
   "cell_type": "markdown",
   "metadata": {},
   "source": [
    "### Let's Generate Some Text!"
   ]
  },
  {
   "cell_type": "code",
   "execution_count": 29,
   "metadata": {
    "collapsed": false
   },
   "outputs": [],
   "source": [
    "import tensorflow as tf\n",
    "import numpy as np\n",
    "\n",
    "_, vocab_to_int, int_to_vocab, token_dict = load_preprocess()\n",
    "seq_length, load_dir = load_params()"
   ]
  },
  {
   "cell_type": "markdown",
   "metadata": {},
   "source": [
    "要使用保存的模型，我们要将保存下来的变量（tensor）通过指定的name获取到"
   ]
  },
  {
   "cell_type": "code",
   "execution_count": 54,
   "metadata": {
    "collapsed": true
   },
   "outputs": [],
   "source": [
    "def get_tensors(loaded_graph):\n",
    "    inputs = loaded_graph.get_tensor_by_name(\"inputs:0\")\n",
    "\n",
    "    initial_state = loaded_graph.get_tensor_by_name(\"init_state:0\")\n",
    "\n",
    "    final_state = loaded_graph.get_tensor_by_name(\"final_state:0\")\n",
    "\n",
    "    probs = loaded_graph.get_tensor_by_name(\"probs:0\")\n",
    "\n",
    "    return inputs, initial_state, final_state, probs\n",
    "\n",
    "def pick_word(probabilities, int_to_vocab):\n",
    "    chances = []\n",
    "    for idx, prob in enumerate(probabilities):    \n",
    "        if prob >= 0.05:\n",
    "            chances.append(int_to_vocab[idx])\n",
    "    if len(chances) < 1:\n",
    "        return str(int_to_vocab[np.argmax(probabilities)])\n",
    "    else:\n",
    "        rand = np.random.randint(0, len(chances))\n",
    "        return str(chances[rand])"
   ]
  },
  {
   "cell_type": "code",
   "execution_count": 56,
   "metadata": {
    "collapsed": false
   },
   "outputs": [
    {
     "name": "stdout",
     "output_type": "stream",
     "text": [
      "INFO:tensorflow:Restoring parameters from ./save\n",
      "来了一个人，他们是他们他的人，他们是他有个人的，他们他们他有个人，他们有一个，他们是他们有一个，他们不是一个人的，“他们不是他来了。骆闻舟一个人，他们在他们有个人，他们是他来了一边的，他有一下。他们一个人，他们有个人，他们是不是他一个人的，他们有个人的，我们有个人，他们是我们不能有个人的，他们是他们是他们有一个人的，他们有一个人，“你们有一个人，他们有一个，他们一个人，他们有一个人的，我不是我们他们在他们不是一个人，他们有个人的，我们是我们他们是一边，一个人，他们是他一个人，他们一个人的，他们他们不是他们在他来了，他们在他们是他们是他有个人，他们有一个人，我们是他们是一个人，“我们有个人的，他们有个人，他们是一个人，他们是他们一下，他有个人的，“我们有一个人，他们有个人的，他们有一个人，他有个人，他在他们一个人，他们是个人的，他们不是他们不是他们有一个人，他们有个人的，“不知然有一个人的，他们是他一个人的，他有个人的，他们有个人，他们一个人的，他们是一个人，他们不是他有一点的，我们是我有一个人，他们是不是他们一个人，他们是他们是他们有一个，他们有个人的，他们是他们有个人的，他们他有个人，\n"
     ]
    }
   ],
   "source": [
    "# 生成文本的长度\n",
    "gen_length = 500\n",
    "\n",
    "# 文章开头的字，指定一个即可，这个字必须是在训练词汇列表中的\n",
    "prime_word = '来'\n",
    "\n",
    "loaded_graph = tf.Graph()\n",
    "with tf.Session(graph=loaded_graph) as sess:\n",
    "    # 加载保存过的session\n",
    "    loader = tf.train.import_meta_graph(load_dir + '.meta')\n",
    "    loader.restore(sess, load_dir)\n",
    "\n",
    "    # 通过名称获取缓存的tensor\n",
    "    input_text, initial_state, final_state, probs = get_tensors(loaded_graph)\n",
    "\n",
    "    # 准备开始生成文本\n",
    "    gen_sentences = [prime_word]\n",
    "    prev_state = sess.run(initial_state, {input_text: np.array([[1]])})\n",
    "\n",
    "    # 开始生成文本\n",
    "    for n in range(gen_length):\n",
    "        dyn_input = [[vocab_to_int[word] for word in gen_sentences[-seq_length:]]]\n",
    "        dyn_seq_length = len(dyn_input[0])\n",
    "\n",
    "        probabilities, prev_state = sess.run(\n",
    "            [probs, final_state],\n",
    "            {input_text: dyn_input, initial_state: prev_state})\n",
    "        # print(probabilities)\n",
    "        # print(len(probabilities))\n",
    "        pred_word = pick_word(probabilities[0][dyn_seq_length - 1], int_to_vocab)\n",
    "\n",
    "        gen_sentences.append(pred_word)\n",
    "\n",
    "    # 将标点符号还原\n",
    "    novel = ''.join(gen_sentences)\n",
    "    for key, token in token_dict.items():\n",
    "        ending = ' ' if key in ['\\n', '（', '“'] else ''\n",
    "        novel = novel.replace(token.upper(), key)\n",
    "    novel = novel.replace('\\n ', '\\n')\n",
    "    novel = novel.replace('（ ', '（')\n",
    "\n",
    "    print(novel)"
   ]
  },
  {
   "cell_type": "code",
   "execution_count": 37,
   "metadata": {
    "collapsed": false
   },
   "outputs": [
    {
     "data": {
      "text/plain": [
       "2734"
      ]
     },
     "execution_count": 37,
     "metadata": {},
     "output_type": "execute_result"
    }
   ],
   "source": [
    "vocab_size"
   ]
  },
  {
   "cell_type": "code",
   "execution_count": 47,
   "metadata": {
    "collapsed": false
   },
   "outputs": [
    {
     "data": {
      "text/plain": [
       "1"
      ]
     },
     "execution_count": 47,
     "metadata": {},
     "output_type": "execute_result"
    }
   ],
   "source": [
    "len(probabilities)"
   ]
  },
  {
   "cell_type": "code",
   "execution_count": 49,
   "metadata": {
    "collapsed": false
   },
   "outputs": [
    {
     "data": {
      "text/plain": [
       "0.17373672"
      ]
     },
     "execution_count": 49,
     "metadata": {},
     "output_type": "execute_result"
    }
   ],
   "source": [
    "max(probabilities[0][0])"
   ]
  },
  {
   "cell_type": "code",
   "execution_count": null,
   "metadata": {
    "collapsed": true
   },
   "outputs": [],
   "source": []
  }
 ],
 "metadata": {
  "anaconda-cloud": {},
  "kernelspec": {
   "display_name": "Python [conda env:py36]",
   "language": "python",
   "name": "conda-env-py36-py"
  },
  "language_info": {
   "codemirror_mode": {
    "name": "ipython",
    "version": 3
   },
   "file_extension": ".py",
   "mimetype": "text/x-python",
   "name": "python",
   "nbconvert_exporter": "python",
   "pygments_lexer": "ipython3",
   "version": "3.6.2"
  }
 },
 "nbformat": 4,
 "nbformat_minor": 1
}
